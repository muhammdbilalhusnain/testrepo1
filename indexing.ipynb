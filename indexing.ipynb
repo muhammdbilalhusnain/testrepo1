{
 "cells": [
  {
   "cell_type": "markdown",
   "id": "336c28f5",
   "metadata": {},
   "source": [
    "# indexing"
   ]
  },
  {
   "cell_type": "code",
   "execution_count": 1,
   "id": "c0379b99",
   "metadata": {},
   "outputs": [
    {
     "data": {
      "text/plain": [
       "'pakistna'"
      ]
     },
     "execution_count": 1,
     "metadata": {},
     "output_type": "execute_result"
    }
   ],
   "source": [
    "#make string\n",
    "a = \"pakistna\"\n",
    "a"
   ]
  },
  {
   "cell_type": "code",
   "execution_count": 2,
   "id": "a5f16143",
   "metadata": {},
   "outputs": [
    {
     "data": {
      "text/plain": [
       "'i'"
      ]
     },
     "execution_count": 2,
     "metadata": {},
     "output_type": "execute_result"
    }
   ],
   "source": [
    "a[3]"
   ]
  },
  {
   "cell_type": "code",
   "execution_count": 3,
   "id": "9fa8102d",
   "metadata": {},
   "outputs": [
    {
     "data": {
      "text/plain": [
       "8"
      ]
     },
     "execution_count": 3,
     "metadata": {},
     "output_type": "execute_result"
    }
   ],
   "source": [
    "len(a)"
   ]
  },
  {
   "cell_type": "code",
   "execution_count": 4,
   "id": "bc4effb6",
   "metadata": {},
   "outputs": [
    {
     "data": {
      "text/plain": [
       "'pakis'"
      ]
     },
     "execution_count": 4,
     "metadata": {},
     "output_type": "execute_result"
    }
   ],
   "source": [
    "a [0:5]"
   ]
  },
  {
   "cell_type": "code",
   "execution_count": 5,
   "id": "221bb3fa",
   "metadata": {
    "scrolled": true
   },
   "outputs": [
    {
     "data": {
      "text/plain": [
       "'i'"
      ]
     },
     "execution_count": 5,
     "metadata": {},
     "output_type": "execute_result"
    }
   ],
   "source": [
    "a[-5:4]"
   ]
  },
  {
   "cell_type": "code",
   "execution_count": 6,
   "id": "6841fe6f",
   "metadata": {},
   "outputs": [
    {
     "data": {
      "text/plain": [
       "'biryani'"
      ]
     },
     "execution_count": 6,
     "metadata": {},
     "output_type": "execute_result"
    }
   ],
   "source": [
    "food =\"biryani\"\n",
    "food"
   ]
  },
  {
   "cell_type": "markdown",
   "id": "e419080d",
   "metadata": {},
   "source": [
    "# string method"
   ]
  },
  {
   "cell_type": "code",
   "execution_count": 7,
   "id": "cd1f4ebd",
   "metadata": {},
   "outputs": [
    {
     "data": {
      "text/plain": [
       "'biryani'"
      ]
     },
     "execution_count": 7,
     "metadata": {},
     "output_type": "execute_result"
    }
   ],
   "source": [
    "food"
   ]
  },
  {
   "cell_type": "code",
   "execution_count": 8,
   "id": "e8699bc7",
   "metadata": {},
   "outputs": [
    {
     "data": {
      "text/plain": [
       "7"
      ]
     },
     "execution_count": 8,
     "metadata": {},
     "output_type": "execute_result"
    }
   ],
   "source": [
    "len(food)"
   ]
  },
  {
   "cell_type": "code",
   "execution_count": 9,
   "id": "e84f727f",
   "metadata": {},
   "outputs": [
    {
     "data": {
      "text/plain": [
       "'Biryani'"
      ]
     },
     "execution_count": 9,
     "metadata": {},
     "output_type": "execute_result"
    }
   ],
   "source": [
    "food.capitalize()"
   ]
  },
  {
   "cell_type": "code",
   "execution_count": 10,
   "id": "3ad4e174",
   "metadata": {},
   "outputs": [
    {
     "data": {
      "text/plain": [
       "'BIRYANI'"
      ]
     },
     "execution_count": 10,
     "metadata": {},
     "output_type": "execute_result"
    }
   ],
   "source": [
    "food.upper()"
   ]
  },
  {
   "cell_type": "code",
   "execution_count": 11,
   "id": "1ef719db",
   "metadata": {},
   "outputs": [
    {
     "data": {
      "text/plain": [
       "'biryani'"
      ]
     },
     "execution_count": 11,
     "metadata": {},
     "output_type": "execute_result"
    }
   ],
   "source": [
    "food.lower()"
   ]
  },
  {
   "cell_type": "code",
   "execution_count": 12,
   "id": "051e9830",
   "metadata": {
    "scrolled": true
   },
   "outputs": [
    {
     "data": {
      "text/plain": [
       "'shiryani'"
      ]
     },
     "execution_count": 12,
     "metadata": {},
     "output_type": "execute_result"
    }
   ],
   "source": [
    "food.replace(\"b\",\"sh\")"
   ]
  },
  {
   "cell_type": "code",
   "execution_count": 13,
   "id": "b6e8c222",
   "metadata": {
    "scrolled": true
   },
   "outputs": [
    {
     "data": {
      "text/plain": [
       "'baba_aammar with dr aammar tufail'"
      ]
     },
     "execution_count": 13,
     "metadata": {},
     "output_type": "execute_result"
    }
   ],
   "source": [
    "#counting sapecific alphabet in a string\n",
    "name =\"baba_aammar with dr aammar tufail\"\n",
    "name"
   ]
  },
  {
   "cell_type": "code",
   "execution_count": 14,
   "id": "47cf27ef",
   "metadata": {},
   "outputs": [
    {
     "data": {
      "text/plain": [
       "9"
      ]
     },
     "execution_count": 14,
     "metadata": {},
     "output_type": "execute_result"
    }
   ],
   "source": [
    "name.count(\"a\")"
   ]
  },
  {
   "cell_type": "code",
   "execution_count": 15,
   "id": "1719f406",
   "metadata": {},
   "outputs": [
    {
     "data": {
      "text/plain": [
       "'baba_aammar with dr aammar tufail'"
      ]
     },
     "execution_count": 15,
     "metadata": {},
     "output_type": "execute_result"
    }
   ],
   "source": [
    "###findind an index number in string\n",
    "name =\"baba_aammar with dr aammar tufail\"\n",
    "name"
   ]
  },
  {
   "cell_type": "code",
   "execution_count": 16,
   "id": "180131a3",
   "metadata": {},
   "outputs": [
    {
     "data": {
      "text/plain": [
       "14"
      ]
     },
     "execution_count": 16,
     "metadata": {},
     "output_type": "execute_result"
    }
   ],
   "source": [
    "name.find(\"t\")"
   ]
  },
  {
   "cell_type": "code",
   "execution_count": 17,
   "id": "17c79f81",
   "metadata": {},
   "outputs": [
    {
     "data": {
      "text/plain": [
       "'i love you samosa,pokara,raita,baryani'"
      ]
     },
     "execution_count": 17,
     "metadata": {},
     "output_type": "execute_result"
    }
   ],
   "source": [
    "##how to split a string\n",
    "food = \"i love you samosa,pokara,raita,baryani\"\n",
    "food"
   ]
  },
  {
   "cell_type": "code",
   "execution_count": 18,
   "id": "b320dbd1",
   "metadata": {},
   "outputs": [
    {
     "data": {
      "text/plain": [
       "['i love you samosa', 'pokara', 'raita', 'baryani']"
      ]
     },
     "execution_count": 18,
     "metadata": {},
     "output_type": "execute_result"
    }
   ],
   "source": [
    "food.split(\",\")"
   ]
  },
  {
   "cell_type": "markdown",
   "id": "c5fd505b",
   "metadata": {},
   "source": [
    "# basic structure in python\n",
    "1-tuple\n",
    "2-list\n",
    "3-dictionaries\n",
    "4-set\n"
   ]
  },
  {
   "cell_type": "markdown",
   "id": "c3546165",
   "metadata": {},
   "source": [
    "### 1-tuple\n",
    "1-ordered collection of element\n",
    "2-enclosed in()round braces/paranthesis\n",
    "3-diferent kind of elements can be stored\n",
    "4-once element are stored you can not change the(unmuteable)"
   ]
  },
  {
   "cell_type": "code",
   "execution_count": 19,
   "id": "d76c137c",
   "metadata": {
    "scrolled": true
   },
   "outputs": [
    {
     "data": {
      "text/plain": [
       "(1, 'python', True, 1.5)"
      ]
     },
     "execution_count": 19,
     "metadata": {},
     "output_type": "execute_result"
    }
   ],
   "source": [
    "tup1 = (1,\"python\", True, 1.5)\n",
    "tup1"
   ]
  },
  {
   "cell_type": "code",
   "execution_count": 20,
   "id": "e1de0563",
   "metadata": {},
   "outputs": [
    {
     "data": {
      "text/plain": [
       "tuple"
      ]
     },
     "execution_count": 20,
     "metadata": {},
     "output_type": "execute_result"
    }
   ],
   "source": [
    "## type of tuple\n",
    "type(tup1)"
   ]
  },
  {
   "cell_type": "code",
   "execution_count": 21,
   "id": "afcc27e6",
   "metadata": {},
   "outputs": [
    {
     "data": {
      "text/plain": [
       "'python'"
      ]
     },
     "execution_count": 21,
     "metadata": {},
     "output_type": "execute_result"
    }
   ],
   "source": [
    "tup1[1]"
   ]
  },
  {
   "cell_type": "code",
   "execution_count": 22,
   "id": "b515fd5f",
   "metadata": {},
   "outputs": [
    {
     "data": {
      "text/plain": [
       "True"
      ]
     },
     "execution_count": 22,
     "metadata": {},
     "output_type": "execute_result"
    }
   ],
   "source": [
    "tup1[2]"
   ]
  },
  {
   "cell_type": "code",
   "execution_count": 23,
   "id": "293dc085",
   "metadata": {},
   "outputs": [
    {
     "data": {
      "text/plain": [
       "1.5"
      ]
     },
     "execution_count": 23,
     "metadata": {},
     "output_type": "execute_result"
    }
   ],
   "source": [
    "tup1[3]"
   ]
  },
  {
   "cell_type": "code",
   "execution_count": 24,
   "id": "57be2421",
   "metadata": {
    "scrolled": true
   },
   "outputs": [
    {
     "data": {
      "text/plain": [
       "(1, 'python', True)"
      ]
     },
     "execution_count": 24,
     "metadata": {},
     "output_type": "execute_result"
    }
   ],
   "source": [
    "#last element exclusive\n",
    "tup1[0:3]"
   ]
  },
  {
   "cell_type": "code",
   "execution_count": 25,
   "id": "c53f82d4",
   "metadata": {
    "scrolled": true
   },
   "outputs": [
    {
     "data": {
      "text/plain": [
       "(1, 'python', True, 1.5)"
      ]
     },
     "execution_count": 25,
     "metadata": {},
     "output_type": "execute_result"
    }
   ],
   "source": [
    "tup1[0:4]"
   ]
  },
  {
   "cell_type": "code",
   "execution_count": 26,
   "id": "f9032fdf",
   "metadata": {},
   "outputs": [
    {
     "data": {
      "text/plain": [
       "4"
      ]
     },
     "execution_count": 26,
     "metadata": {},
     "output_type": "execute_result"
    }
   ],
   "source": [
    "#count of element in tuple\n",
    "len(tup1)"
   ]
  },
  {
   "cell_type": "code",
   "execution_count": 27,
   "id": "7b98fc8e",
   "metadata": {},
   "outputs": [
    {
     "data": {
      "text/plain": [
       "(1, 'babaammar', 1.5, False)"
      ]
     },
     "execution_count": 27,
     "metadata": {},
     "output_type": "execute_result"
    }
   ],
   "source": [
    "tup2 = (1,\"babaammar\",1.5,False)\n",
    "tup2"
   ]
  },
  {
   "cell_type": "code",
   "execution_count": 28,
   "id": "1d93cc67",
   "metadata": {},
   "outputs": [
    {
     "data": {
      "text/plain": [
       "(1, 'python', True, 1.5, 1, 'babaammar', 1.5, False)"
      ]
     },
     "execution_count": 28,
     "metadata": {},
     "output_type": "execute_result"
    }
   ],
   "source": [
    "#concaticate\n",
    "tup1+tup2"
   ]
  },
  {
   "cell_type": "code",
   "execution_count": 29,
   "id": "1543e9a5",
   "metadata": {},
   "outputs": [
    {
     "data": {
      "text/plain": [
       "(1,\n",
       " 'python',\n",
       " True,\n",
       " 1.5,\n",
       " 1,\n",
       " 'python',\n",
       " True,\n",
       " 1.5,\n",
       " 1,\n",
       " 'python',\n",
       " True,\n",
       " 1.5,\n",
       " 1,\n",
       " 'babaammar',\n",
       " 1.5,\n",
       " False)"
      ]
     },
     "execution_count": 29,
     "metadata": {},
     "output_type": "execute_result"
    }
   ],
   "source": [
    "#comcatinate repeat\n",
    "tup1*3 +tup2"
   ]
  },
  {
   "cell_type": "code",
   "execution_count": 30,
   "id": "d77647db",
   "metadata": {
    "scrolled": true
   },
   "outputs": [
    {
     "data": {
      "text/plain": [
       "(20, 23, 50, 40, 30, 60)"
      ]
     },
     "execution_count": 30,
     "metadata": {},
     "output_type": "execute_result"
    }
   ],
   "source": [
    "tup3 =(20,23,50,40,30,60)\n",
    "tup3"
   ]
  },
  {
   "cell_type": "code",
   "execution_count": 31,
   "id": "e74bf7bc",
   "metadata": {},
   "outputs": [
    {
     "data": {
      "text/plain": [
       "20"
      ]
     },
     "execution_count": 31,
     "metadata": {},
     "output_type": "execute_result"
    }
   ],
   "source": [
    "#minimam\n",
    "min(tup3)"
   ]
  },
  {
   "cell_type": "code",
   "execution_count": 32,
   "id": "200682ff",
   "metadata": {},
   "outputs": [
    {
     "data": {
      "text/plain": [
       "60"
      ]
     },
     "execution_count": 32,
     "metadata": {},
     "output_type": "execute_result"
    }
   ],
   "source": [
    "max(tup3)"
   ]
  },
  {
   "cell_type": "code",
   "execution_count": 33,
   "id": "2b1846c1",
   "metadata": {
    "scrolled": true
   },
   "outputs": [
    {
     "data": {
      "text/plain": [
       "(20, 23, 50, 40, 30, 60, 20, 23, 50, 40, 30, 60)"
      ]
     },
     "execution_count": 33,
     "metadata": {},
     "output_type": "execute_result"
    }
   ],
   "source": [
    "tup3*2"
   ]
  },
  {
   "cell_type": "markdown",
   "id": "56f97868",
   "metadata": {},
   "source": [
    "---"
   ]
  },
  {
   "cell_type": "markdown",
   "id": "acdc4d3e",
   "metadata": {},
   "source": [
    "# 2-list\n",
    "1-list collection of elements\n",
    "2-enclosed in[]squre braces/nraket\n",
    "3-mutateable you can change the value"
   ]
  },
  {
   "cell_type": "code",
   "execution_count": 34,
   "id": "3b78a085",
   "metadata": {},
   "outputs": [
    {
     "data": {
      "text/plain": [
       "[1, 'babaammar', 1.5, False]"
      ]
     },
     "execution_count": 34,
     "metadata": {},
     "output_type": "execute_result"
    }
   ],
   "source": [
    "list1 = [1,\"babaammar\",1.5,False]\n",
    "list1"
   ]
  },
  {
   "cell_type": "code",
   "execution_count": 35,
   "id": "df3535b2",
   "metadata": {},
   "outputs": [
    {
     "data": {
      "text/plain": [
       "list"
      ]
     },
     "execution_count": 35,
     "metadata": {},
     "output_type": "execute_result"
    }
   ],
   "source": [
    "type(list1)"
   ]
  },
  {
   "cell_type": "code",
   "execution_count": 36,
   "id": "0a1d5228",
   "metadata": {},
   "outputs": [
    {
     "data": {
      "text/plain": [
       "4"
      ]
     },
     "execution_count": 36,
     "metadata": {},
     "output_type": "execute_result"
    }
   ],
   "source": [
    "len(list1)"
   ]
  },
  {
   "cell_type": "code",
   "execution_count": 37,
   "id": "aa6555b6",
   "metadata": {},
   "outputs": [
    {
     "data": {
      "text/plain": [
       "1.5"
      ]
     },
     "execution_count": 37,
     "metadata": {},
     "output_type": "execute_result"
    }
   ],
   "source": [
    "list1[2]"
   ]
  },
  {
   "cell_type": "code",
   "execution_count": 38,
   "id": "3bc837d7",
   "metadata": {},
   "outputs": [
    {
     "data": {
      "text/plain": [
       "[3, 5, 'bilal', 'husnain', False, 74, 23]"
      ]
     },
     "execution_count": 38,
     "metadata": {},
     "output_type": "execute_result"
    }
   ],
   "source": [
    "list2 = [3,5,\"bilal\",\"husnain\",False,74,23,]\n",
    "list2"
   ]
  },
  {
   "cell_type": "code",
   "execution_count": 39,
   "id": "b9c9a687",
   "metadata": {
    "scrolled": true
   },
   "outputs": [
    {
     "data": {
      "text/plain": [
       "[1, 'babaammar', 1.5, False, 3, 5, 'bilal', 'husnain', False, 74, 23]"
      ]
     },
     "execution_count": 39,
     "metadata": {},
     "output_type": "execute_result"
    }
   ],
   "source": [
    "list1 + list2"
   ]
  },
  {
   "cell_type": "code",
   "execution_count": 40,
   "id": "35371450",
   "metadata": {},
   "outputs": [
    {
     "data": {
      "text/plain": [
       "[1, 'babaammar', 1.5, False, 1, 'babaammar', 1.5, False]"
      ]
     },
     "execution_count": 40,
     "metadata": {},
     "output_type": "execute_result"
    }
   ],
   "source": [
    "list1*2"
   ]
  },
  {
   "cell_type": "code",
   "execution_count": 41,
   "id": "b8fde5fe",
   "metadata": {},
   "outputs": [
    {
     "data": {
      "text/plain": [
       "[1, 'babaammar', 1.5, False]"
      ]
     },
     "execution_count": 41,
     "metadata": {},
     "output_type": "execute_result"
    }
   ],
   "source": [
    "list1"
   ]
  },
  {
   "cell_type": "code",
   "execution_count": 42,
   "id": "189ab39c",
   "metadata": {},
   "outputs": [
    {
     "data": {
      "text/plain": [
       "[False, 1.5, 'babaammar', 1]"
      ]
     },
     "execution_count": 42,
     "metadata": {},
     "output_type": "execute_result"
    }
   ],
   "source": [
    "list1.reverse()\n",
    "list1"
   ]
  },
  {
   "cell_type": "code",
   "execution_count": 43,
   "id": "f20fc30c",
   "metadata": {},
   "outputs": [
    {
     "data": {
      "text/plain": [
       "[False, 1.5, 'babaammar', 1, 'aammar condanics youtube channle']"
      ]
     },
     "execution_count": 43,
     "metadata": {},
     "output_type": "execute_result"
    }
   ],
   "source": [
    "list1.append(\"aammar condanics youtube channle\")\n",
    "list1"
   ]
  },
  {
   "cell_type": "code",
   "execution_count": 44,
   "id": "810c744d",
   "metadata": {},
   "outputs": [
    {
     "data": {
      "text/plain": [
       "[12, 23, 13, 45, 34, 25, 45, 67, 76, 89, 85, 76]"
      ]
     },
     "execution_count": 44,
     "metadata": {},
     "output_type": "execute_result"
    }
   ],
   "source": [
    "list3 = [12,23,13,45,34,25,45,67,76,89,85,76,]\n",
    "list3"
   ]
  },
  {
   "cell_type": "code",
   "execution_count": 45,
   "id": "b2376298",
   "metadata": {},
   "outputs": [
    {
     "data": {
      "text/plain": [
       "12"
      ]
     },
     "execution_count": 45,
     "metadata": {},
     "output_type": "execute_result"
    }
   ],
   "source": [
    "len(list3)"
   ]
  },
  {
   "cell_type": "code",
   "execution_count": 46,
   "id": "4995cbcc",
   "metadata": {},
   "outputs": [
    {
     "data": {
      "text/plain": [
       "[12, 13, 23, 25, 34, 45, 45, 67, 76, 76, 85, 89]"
      ]
     },
     "execution_count": 46,
     "metadata": {},
     "output_type": "execute_result"
    }
   ],
   "source": [
    "#sorting list\n",
    "list3.sort()\n",
    "list3"
   ]
  },
  {
   "cell_type": "code",
   "execution_count": 47,
   "id": "dfa6c532",
   "metadata": {},
   "outputs": [
    {
     "data": {
      "text/plain": [
       "[12,\n",
       " 13,\n",
       " 23,\n",
       " 25,\n",
       " 34,\n",
       " 45,\n",
       " 45,\n",
       " 67,\n",
       " 76,\n",
       " 76,\n",
       " 85,\n",
       " 89,\n",
       " 12,\n",
       " 13,\n",
       " 23,\n",
       " 25,\n",
       " 34,\n",
       " 45,\n",
       " 45,\n",
       " 67,\n",
       " 76,\n",
       " 76,\n",
       " 85,\n",
       " 89]"
      ]
     },
     "execution_count": 47,
     "metadata": {},
     "output_type": "execute_result"
    }
   ],
   "source": [
    "list3*2"
   ]
  },
  {
   "cell_type": "code",
   "execution_count": 48,
   "id": "107280d9",
   "metadata": {},
   "outputs": [
    {
     "data": {
      "text/plain": [
       "[False,\n",
       " 1.5,\n",
       " 'babaammar',\n",
       " 1,\n",
       " 'aammar condanics youtube channle',\n",
       " 3,\n",
       " 5,\n",
       " 'bilal',\n",
       " 'husnain',\n",
       " False,\n",
       " 74,\n",
       " 23,\n",
       " 12,\n",
       " 13,\n",
       " 23,\n",
       " 25,\n",
       " 34,\n",
       " 45,\n",
       " 45,\n",
       " 67,\n",
       " 76,\n",
       " 76,\n",
       " 85,\n",
       " 89]"
      ]
     },
     "execution_count": 48,
     "metadata": {},
     "output_type": "execute_result"
    }
   ],
   "source": [
    "list1+list2+list3"
   ]
  },
  {
   "cell_type": "code",
   "execution_count": 49,
   "id": "0ace28ac",
   "metadata": {},
   "outputs": [
    {
     "data": {
      "text/plain": [
       "[False,\n",
       " 1.5,\n",
       " 'babaammar',\n",
       " 1,\n",
       " 'aammar condanics youtube channle',\n",
       " 3,\n",
       " 5,\n",
       " 'bilal',\n",
       " 'husnain',\n",
       " False,\n",
       " 74,\n",
       " 23]"
      ]
     },
     "execution_count": 49,
     "metadata": {},
     "output_type": "execute_result"
    }
   ],
   "source": [
    "lists = list1+list2\n",
    "lists"
   ]
  },
  {
   "cell_type": "markdown",
   "id": "799ab1e8",
   "metadata": {},
   "source": [
    "### 3 dictionaries\n",
    "1-an unorderd to callection of elements\n",
    "2-key and value\n",
    "3-curly braces or braket ()\n",
    "4-mutateable/change of values"
   ]
  },
  {
   "cell_type": "code",
   "execution_count": 50,
   "id": "16651b64",
   "metadata": {},
   "outputs": [
    {
     "data": {
      "text/plain": [
       "{'samosa': 30, 'raita': 20, 'pakora': 50, 'salad': 10}"
      ]
     },
     "execution_count": 50,
     "metadata": {},
     "output_type": "execute_result"
    }
   ],
   "source": [
    "#food thire prices\n",
    "food1 = {\"samosa\":30,\"raita\":20,\"pakora\":50,\"salad\":10}\n",
    "food1"
   ]
  },
  {
   "cell_type": "code",
   "execution_count": 51,
   "id": "b854c136",
   "metadata": {},
   "outputs": [
    {
     "data": {
      "text/plain": [
       "dict"
      ]
     },
     "execution_count": 51,
     "metadata": {},
     "output_type": "execute_result"
    }
   ],
   "source": [
    "type(food1)"
   ]
  },
  {
   "cell_type": "code",
   "execution_count": 52,
   "id": "6c1ba580",
   "metadata": {},
   "outputs": [
    {
     "data": {
      "text/plain": [
       "dict_keys(['samosa', 'raita', 'pakora', 'salad'])"
      ]
     },
     "execution_count": 52,
     "metadata": {},
     "output_type": "execute_result"
    }
   ],
   "source": [
    "#extract data\n",
    "keys1 = food1.keys()\n",
    "keys1"
   ]
  },
  {
   "cell_type": "code",
   "execution_count": 53,
   "id": "f31effd3",
   "metadata": {},
   "outputs": [
    {
     "data": {
      "text/plain": [
       "dict_values([30, 20, 50, 10])"
      ]
     },
     "execution_count": 53,
     "metadata": {},
     "output_type": "execute_result"
    }
   ],
   "source": [
    "values1 = food1.values()\n",
    "values1"
   ]
  },
  {
   "cell_type": "code",
   "execution_count": 54,
   "id": "d1cf3f9c",
   "metadata": {},
   "outputs": [
    {
     "data": {
      "text/plain": [
       "{'samosa': 30, 'raita': 20, 'pakora': 50, 'salad': 10, 'tikki': 60}"
      ]
     },
     "execution_count": 54,
     "metadata": {},
     "output_type": "execute_result"
    }
   ],
   "source": [
    "#adding new elements\n",
    "food1[\"tikki\"]=60\n",
    "food1"
   ]
  },
  {
   "cell_type": "code",
   "execution_count": 55,
   "id": "618484ed",
   "metadata": {},
   "outputs": [
    {
     "data": {
      "text/plain": [
       "{'samosa': 30, 'raita': 20, 'pakora': 50, 'salad': 10, 'tikki': 15}"
      ]
     },
     "execution_count": 55,
     "metadata": {},
     "output_type": "execute_result"
    }
   ],
   "source": [
    "#update values\n",
    "food1[\"tikki\"]=15\n",
    "food1"
   ]
  },
  {
   "cell_type": "code",
   "execution_count": 56,
   "id": "f46aecba",
   "metadata": {},
   "outputs": [
    {
     "data": {
      "text/plain": [
       "{'dates': 40, 'choclates': 200, 'birad': 300}"
      ]
     },
     "execution_count": 56,
     "metadata": {},
     "output_type": "execute_result"
    }
   ],
   "source": [
    "food2 ={\"dates\":40,\"choclates\":200,\"birad\":300}\n",
    "food2"
   ]
  },
  {
   "cell_type": "code",
   "execution_count": 57,
   "id": "d8036f42",
   "metadata": {},
   "outputs": [],
   "source": [
    "food1.update(food2)"
   ]
  },
  {
   "cell_type": "code",
   "execution_count": 58,
   "id": "85469597",
   "metadata": {},
   "outputs": [
    {
     "data": {
      "text/plain": [
       "{'samosa': 30,\n",
       " 'raita': 20,\n",
       " 'pakora': 50,\n",
       " 'salad': 10,\n",
       " 'tikki': 15,\n",
       " 'dates': 40,\n",
       " 'choclates': 200,\n",
       " 'birad': 300}"
      ]
     },
     "execution_count": 58,
     "metadata": {},
     "output_type": "execute_result"
    }
   ],
   "source": [
    "food1"
   ]
  },
  {
   "cell_type": "markdown",
   "id": "a4b4ed5f",
   "metadata": {},
   "source": [
    "## 4-set"
   ]
  },
  {
   "cell_type": "markdown",
   "id": "11b6379e",
   "metadata": {},
   "source": [
    "unorder and unindex\n",
    "curly braces are use{}\n",
    "no dublicate allowed"
   ]
  },
  {
   "cell_type": "code",
   "execution_count": 59,
   "id": "f7616e00",
   "metadata": {},
   "outputs": [
    {
     "data": {
      "text/plain": [
       "{1, 12, 2.2, 34, 'ammmar', 'codanics', 'lovely'}"
      ]
     },
     "execution_count": 59,
     "metadata": {},
     "output_type": "execute_result"
    }
   ],
   "source": [
    "s1 ={1,12,34,2.2,\"ammmar\",\"codanics\",\"lovely\"}\n",
    "s1"
   ]
  },
  {
   "cell_type": "code",
   "execution_count": 65,
   "id": "09d88e50",
   "metadata": {},
   "outputs": [
    {
     "data": {
      "text/plain": [
       "{1, 12, 2.2, 34, 'ammar2', 'ammmar', 'codanics', 'lovely'}"
      ]
     },
     "execution_count": 65,
     "metadata": {},
     "output_type": "execute_result"
    }
   ],
   "source": [
    "s1.add(\"ammar2\")\n",
    "s1"
   ]
  },
  {
   "cell_type": "code",
   "execution_count": 61,
   "id": "0458f25d",
   "metadata": {},
   "outputs": [
    {
     "data": {
      "text/plain": [
       "{1, 12, 2.2, 34, 'ammmar', 'codanics', 'lovely'}"
      ]
     },
     "execution_count": 61,
     "metadata": {},
     "output_type": "execute_result"
    }
   ],
   "source": [
    "s1.remove(\"ammar2\")\n",
    "s1"
   ]
  },
  {
   "cell_type": "code",
   "execution_count": 62,
   "id": "b33d82c0",
   "metadata": {},
   "outputs": [
    {
     "data": {
      "image/png": "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",
      "text/plain": [
       "<Figure size 606.75x500 with 1 Axes>"
      ]
     },
     "metadata": {},
     "output_type": "display_data"
    }
   ],
   "source": [
    "import seaborn as sns\n",
    "import matplotlib.pyplot as plt\n",
    "sns.set_theme(style=\"ticks\", color_codes=True)\n",
    "\n",
    "\n",
    "titanic=sns.load_dataset(\"titanic\")\n",
    "sns.catplot(x=\"sex\",y=\"survived\",hue=\"class\",kind=\"bar\",data=titanic)\n",
    "plt.show()"
   ]
  },
  {
   "cell_type": "code",
   "execution_count": 63,
   "id": "3f1ed9a6",
   "metadata": {},
   "outputs": [
    {
     "name": "stderr",
     "output_type": "stream",
     "text": [
      "c:\\Users\\farooq\\AppData\\Local\\Programs\\Python\\Python310\\lib\\site-packages\\seaborn\\axisgrid.py:745: FutureWarning: iteritems is deprecated and will be removed in a future version. Use .items instead.\n",
      "  plot_args = [v for k, v in plot_data.iteritems()]\n",
      "c:\\Users\\farooq\\AppData\\Local\\Programs\\Python\\Python310\\lib\\site-packages\\seaborn\\axisgrid.py:745: FutureWarning: iteritems is deprecated and will be removed in a future version. Use .items instead.\n",
      "  plot_args = [v for k, v in plot_data.iteritems()]\n",
      "c:\\Users\\farooq\\AppData\\Local\\Programs\\Python\\Python310\\lib\\site-packages\\seaborn\\axisgrid.py:745: FutureWarning: iteritems is deprecated and will be removed in a future version. Use .items instead.\n",
      "  plot_args = [v for k, v in plot_data.iteritems()]\n",
      "c:\\Users\\farooq\\AppData\\Local\\Programs\\Python\\Python310\\lib\\site-packages\\seaborn\\axisgrid.py:745: FutureWarning: iteritems is deprecated and will be removed in a future version. Use .items instead.\n",
      "  plot_args = [v for k, v in plot_data.iteritems()]\n"
     ]
    },
    {
     "data": {
      "image/png": "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",
      "text/plain": [
       "<Figure size 392.5x600 with 2 Axes>"
      ]
     },
     "metadata": {},
     "output_type": "display_data"
    }
   ],
   "source": [
    "import seaborn as sns\n",
    "import matplotlib.pyplot as plt\n",
    "sns.set_theme(style=\"ticks\",color_codes=True)\n",
    "titanic = sns.load_dataset(\"titanic\")\n",
    "g= sns.FacetGrid(titanic,row=\"sex\",hue=\"alone\")\n",
    "g=(g.map(plt.scatter,\"age\",\"fare\").add_legend())\n",
    "plt.show()"
   ]
  },
  {
   "cell_type": "code",
   "execution_count": 64,
   "id": "4a013cac",
   "metadata": {},
   "outputs": [
    {
     "name": "stdout",
     "output_type": "stream",
     "text": [
      "     survived  pclass     sex   age  sibsp  parch     fare embarked   class  \\\n",
      "0           0       3    male  22.0      1      0   7.2500        S   Third   \n",
      "1           1       1  female  38.0      1      0  71.2833        C   First   \n",
      "2           1       3  female  26.0      0      0   7.9250        S   Third   \n",
      "3           1       1  female  35.0      1      0  53.1000        S   First   \n",
      "4           0       3    male  35.0      0      0   8.0500        S   Third   \n",
      "..        ...     ...     ...   ...    ...    ...      ...      ...     ...   \n",
      "886         0       2    male  27.0      0      0  13.0000        S  Second   \n",
      "887         1       1  female  19.0      0      0  30.0000        S   First   \n",
      "888         0       3  female   NaN      1      2  23.4500        S   Third   \n",
      "889         1       1    male  26.0      0      0  30.0000        C   First   \n",
      "890         0       3    male  32.0      0      0   7.7500        Q   Third   \n",
      "\n",
      "       who  adult_male deck  embark_town alive  alone  \n",
      "0      man        True  NaN  Southampton    no  False  \n",
      "1    woman       False    C    Cherbourg   yes  False  \n",
      "2    woman       False  NaN  Southampton   yes   True  \n",
      "3    woman       False    C  Southampton   yes  False  \n",
      "4      man        True  NaN  Southampton    no   True  \n",
      "..     ...         ...  ...          ...   ...    ...  \n",
      "886    man        True  NaN  Southampton    no   True  \n",
      "887  woman       False    B  Southampton   yes   True  \n",
      "888  woman       False  NaN  Southampton    no  False  \n",
      "889    man        True    C    Cherbourg   yes   True  \n",
      "890    man        True  NaN   Queenstown    no   True  \n",
      "\n",
      "[891 rows x 15 columns]\n"
     ]
    },
    {
     "data": {
      "image/png": "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",
      "text/plain": [
       "<Figure size 640x480 with 1 Axes>"
      ]
     },
     "metadata": {},
     "output_type": "display_data"
    }
   ],
   "source": [
    "import seaborn as sns\n",
    "import matplotlib.pyplot as plt\n",
    "sns.set_theme(style=\"ticks\",color_codes=True)\n",
    "titanic = sns.load_dataset(\"titanic\")\n",
    "print(titanic)\n",
    "p1= sns.countplot(x=\"who\",data=titanic,hue=\"alone\")\n",
    "p1.set_title(\"plot for couting\")\n",
    "plt.show()"
   ]
  }
 ],
 "metadata": {
  "kernelspec": {
   "display_name": "Python 3",
   "language": "python",
   "name": "python3"
  },
  "language_info": {
   "codemirror_mode": {
    "name": "ipython",
    "version": 3
   },
   "file_extension": ".py",
   "mimetype": "text/x-python",
   "name": "python",
   "nbconvert_exporter": "python",
   "pygments_lexer": "ipython3",
   "version": "3.10.5"
  },
  "vscode": {
   "interpreter": {
    "hash": "3b0ab8a612711cfe19b8e24d62a7cf893a9f48fb8adf11655bdc2e89171f6a41"
   }
  }
 },
 "nbformat": 4,
 "nbformat_minor": 5
}
i am become data scientist
